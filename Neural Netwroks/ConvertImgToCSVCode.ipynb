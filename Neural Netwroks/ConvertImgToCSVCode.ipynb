{
 "cells": [
  {
   "cell_type": "code",
   "execution_count": 1,
   "metadata": {},
   "outputs": [],
   "source": [
    "from PIL import Image as img\n",
    "import numpy as np\n",
    "import os\n",
    "import csv\n",
    "import re"
   ]
  },
  {
   "cell_type": "code",
   "execution_count": 2,
   "metadata": {},
   "outputs": [],
   "source": [
    "def createFileList(myDir, format='.jpg'):\n",
    "    fileList = []\n",
    "    for root, dirs, files in os.walk(myDir, topdown=False):\n",
    "        for name in files:\n",
    "            if name.endswith(format):\n",
    "                fullName = os.path.join(root, name)\n",
    "                fileList.append(fullName)\n",
    "    return fileList"
   ]
  },
  {
   "cell_type": "code",
   "execution_count": 3,
   "metadata": {},
   "outputs": [
    {
     "name": "stdout",
     "output_type": "stream",
     "text": [
      "./bonus/\n"
     ]
    },
    {
     "ename": "KeyError",
     "evalue": "''",
     "output_type": "error",
     "traceback": [
      "\u001b[0;31m---------------------------------------------------------------------------\u001b[0m",
      "\u001b[0;31mKeyError\u001b[0m                                  Traceback (most recent call last)",
      "\u001b[1;32m/home/piyush/Desktop/Project MANAS/Neural Network/filecsv.ipynb Cell 3\u001b[0m line \u001b[0;36m4\n\u001b[1;32m     <a href='vscode-notebook-cell:/home/piyush/Desktop/Project%20MANAS/Neural%20Network/filecsv.ipynb#W2sZmlsZQ%3D%3D?line=44'>45</a>\u001b[0m value \u001b[39m=\u001b[39m np\u001b[39m.\u001b[39masarray(img_file\u001b[39m.\u001b[39mgetdata(), dtype\u001b[39m=\u001b[39m\u001b[39mint\u001b[39m)\u001b[39m.\u001b[39mreshape((img_file\u001b[39m.\u001b[39msize[\u001b[39m1\u001b[39m], img_file\u001b[39m.\u001b[39msize[\u001b[39m0\u001b[39m]))\n\u001b[1;32m     <a href='vscode-notebook-cell:/home/piyush/Desktop/Project%20MANAS/Neural%20Network/filecsv.ipynb#W2sZmlsZQ%3D%3D?line=45'>46</a>\u001b[0m value \u001b[39m=\u001b[39m value\u001b[39m.\u001b[39mflatten()\n\u001b[0;32m---> <a href='vscode-notebook-cell:/home/piyush/Desktop/Project%20MANAS/Neural%20Network/filecsv.ipynb#W2sZmlsZQ%3D%3D?line=46'>47</a>\u001b[0m value \u001b[39m=\u001b[39m np\u001b[39m.\u001b[39minsert(value, \u001b[39m0\u001b[39m, \u001b[39mmap\u001b[39;49m[category], axis\u001b[39m=\u001b[39m\u001b[39m0\u001b[39m)\n\u001b[1;32m     <a href='vscode-notebook-cell:/home/piyush/Desktop/Project%20MANAS/Neural%20Network/filecsv.ipynb#W2sZmlsZQ%3D%3D?line=48'>49</a>\u001b[0m \u001b[39m# print(value)\u001b[39;00m\n\u001b[1;32m     <a href='vscode-notebook-cell:/home/piyush/Desktop/Project%20MANAS/Neural%20Network/filecsv.ipynb#W2sZmlsZQ%3D%3D?line=49'>50</a>\u001b[0m \u001b[39mwith\u001b[39;00m \u001b[39mopen\u001b[39m(\u001b[39mf\u001b[39m\u001b[39m\"\u001b[39m\u001b[39m{\u001b[39;00mcsvname\u001b[39m}\u001b[39;00m\u001b[39m.csv\u001b[39m\u001b[39m\"\u001b[39m, \u001b[39m'\u001b[39m\u001b[39ma\u001b[39m\u001b[39m'\u001b[39m) \u001b[39mas\u001b[39;00m f:\n",
      "\u001b[0;31mKeyError\u001b[0m: ''"
     ]
    }
   ],
   "source": [
    "# initialising a directories list containing the directories with data\n",
    "directories = ['./train/', './test/']\n",
    "\n",
    "for path in directories:\n",
    "    myFileList = createFileList(path)\n",
    "    csvname = path[2:-1]\n",
    "\n",
    "    header = list(np.arange(0,784))\n",
    "    header.insert(0, 'label')\n",
    "    with open(f\"{csvname}.csv\", 'a') as f:\n",
    "        writer = csv.writer(f)\n",
    "        writer.writerow(header) \n",
    "\n",
    "    for file in myFileList:\n",
    "        label = file\n",
    "        cat = re.findall('/.*/', file)\n",
    "        category = cat[0]\n",
    "        if csvname == 'train':\n",
    "            category = category[7: -1:]\n",
    "        else:\n",
    "            category = category[6: -1:]\n",
    "        # print (category)\n",
    "        map = {\n",
    "            'bart_simpson': 0,\n",
    "            'charles_montgomery_burns': 1,\n",
    "            'homer_simpson': 2,\n",
    "            'krusty_the_clown': 3,\n",
    "            'lisa_simpson': 4,\n",
    "            'marge_simpson': 5,\n",
    "            'milhouse_van_houten': 6,\n",
    "            'moe_szyslak': 7,\n",
    "            'ned_flanders': 8,\n",
    "            'principal_skinner': 9,\n",
    "        }\n",
    "\n",
    "        img_file = img.open(file)\n",
    "\n",
    "        # image params    \n",
    "        width, height = img_file.size\n",
    "        format = img_file.format\n",
    "        mode = img_file.mode\n",
    "\n",
    "        # writing the extracted data into the csv file\n",
    "        value = np.asarray(img_file.getdata(), dtype=int).reshape((img_file.size[1], img_file.size[0]))\n",
    "        value = value.flatten()\n",
    "        value = np.insert(value, 0, map[category], axis=0)\n",
    "\n",
    "        # print(value)\n",
    "        with open(f\"{csvname}.csv\", 'a') as f:\n",
    "            writer = csv.writer(f)\n",
    "            writer.writerow(value)"
   ]
  }
 ],
 "metadata": {
  "kernelspec": {
   "display_name": "Python 3",
   "language": "python",
   "name": "python3"
  },
  "language_info": {
   "codemirror_mode": {
    "name": "ipython",
    "version": 3
   },
   "file_extension": ".py",
   "mimetype": "text/x-python",
   "name": "python",
   "nbconvert_exporter": "python",
   "pygments_lexer": "ipython3",
   "version": "3.8.10"
  }
 },
 "nbformat": 4,
 "nbformat_minor": 2
}
