{
 "cells": [
  {
   "cell_type": "code",
   "execution_count": 13,
   "id": "779b8c3e-fa57-45d8-94ed-908debe94fa5",
   "metadata": {},
   "outputs": [],
   "source": [
    "import numpy as np\n",
    "import pandas as pd\n",
    "import matplotlib.pyplot as plt"
   ]
  },
  {
   "cell_type": "code",
   "execution_count": 14,
   "id": "6f9b0bb8-9a86-4d40-8be6-770083dc73ae",
   "metadata": {},
   "outputs": [
    {
     "data": {
      "text/html": [
       "<div>\n",
       "<style scoped>\n",
       "    .dataframe tbody tr th:only-of-type {\n",
       "        vertical-align: middle;\n",
       "    }\n",
       "\n",
       "    .dataframe tbody tr th {\n",
       "        vertical-align: top;\n",
       "    }\n",
       "\n",
       "    .dataframe thead th {\n",
       "        text-align: right;\n",
       "    }\n",
       "</style>\n",
       "<table border=\"1\" class=\"dataframe\">\n",
       "  <thead>\n",
       "    <tr style=\"text-align: right;\">\n",
       "      <th></th>\n",
       "      <th>Species</th>\n",
       "      <th>Weight</th>\n",
       "      <th>Length</th>\n",
       "      <th>Age</th>\n",
       "      <th>TailLength</th>\n",
       "      <th>Height</th>\n",
       "      <th>Width</th>\n",
       "      <th>Gender</th>\n",
       "      <th>Completeness</th>\n",
       "    </tr>\n",
       "  </thead>\n",
       "  <tbody>\n",
       "    <tr>\n",
       "      <th>0</th>\n",
       "      <td>Iguanadon</td>\n",
       "      <td>1650.0</td>\n",
       "      <td>59.0</td>\n",
       "      <td>63.4</td>\n",
       "      <td>68.0</td>\n",
       "      <td>10.8120</td>\n",
       "      <td>7.4800</td>\n",
       "      <td>M</td>\n",
       "      <td>0.545</td>\n",
       "    </tr>\n",
       "    <tr>\n",
       "      <th>1</th>\n",
       "      <td>Pterodactyl</td>\n",
       "      <td>145.0</td>\n",
       "      <td>22.0</td>\n",
       "      <td>24.0</td>\n",
       "      <td>25.5</td>\n",
       "      <td>6.3750</td>\n",
       "      <td>3.8250</td>\n",
       "      <td>M</td>\n",
       "      <td>0.531</td>\n",
       "    </tr>\n",
       "    <tr>\n",
       "      <th>2</th>\n",
       "      <td>Pterodactyl</td>\n",
       "      <td>820.0</td>\n",
       "      <td>37.1</td>\n",
       "      <td>40.0</td>\n",
       "      <td>42.5</td>\n",
       "      <td>11.1350</td>\n",
       "      <td>6.6300</td>\n",
       "      <td>F</td>\n",
       "      <td>0.661</td>\n",
       "    </tr>\n",
       "    <tr>\n",
       "      <th>3</th>\n",
       "      <td>Brachiosaurus</td>\n",
       "      <td>242.0</td>\n",
       "      <td>23.2</td>\n",
       "      <td>25.4</td>\n",
       "      <td>30.0</td>\n",
       "      <td>11.5200</td>\n",
       "      <td>4.0200</td>\n",
       "      <td>F</td>\n",
       "      <td>0.793</td>\n",
       "    </tr>\n",
       "    <tr>\n",
       "      <th>4</th>\n",
       "      <td>Pterodactyl</td>\n",
       "      <td>650.0</td>\n",
       "      <td>36.5</td>\n",
       "      <td>39.0</td>\n",
       "      <td>41.4</td>\n",
       "      <td>11.1366</td>\n",
       "      <td>6.0030</td>\n",
       "      <td>M</td>\n",
       "      <td>0.931</td>\n",
       "    </tr>\n",
       "    <tr>\n",
       "      <th>...</th>\n",
       "      <td>...</td>\n",
       "      <td>...</td>\n",
       "      <td>...</td>\n",
       "      <td>...</td>\n",
       "      <td>...</td>\n",
       "      <td>...</td>\n",
       "      <td>...</td>\n",
       "      <td>...</td>\n",
       "      <td>...</td>\n",
       "    </tr>\n",
       "    <tr>\n",
       "      <th>154</th>\n",
       "      <td>Stegosaurus</td>\n",
       "      <td>7.0</td>\n",
       "      <td>10.1</td>\n",
       "      <td>10.6</td>\n",
       "      <td>11.6</td>\n",
       "      <td>1.7284</td>\n",
       "      <td>1.1484</td>\n",
       "      <td>F</td>\n",
       "      <td>0.557</td>\n",
       "    </tr>\n",
       "    <tr>\n",
       "      <th>155</th>\n",
       "      <td>Brachiosaurus</td>\n",
       "      <td>850.0</td>\n",
       "      <td>32.8</td>\n",
       "      <td>36.0</td>\n",
       "      <td>41.6</td>\n",
       "      <td>16.8896</td>\n",
       "      <td>6.1984</td>\n",
       "      <td>F</td>\n",
       "      <td>0.849</td>\n",
       "    </tr>\n",
       "    <tr>\n",
       "      <th>156</th>\n",
       "      <td>Pterodactyl</td>\n",
       "      <td>900.0</td>\n",
       "      <td>37.0</td>\n",
       "      <td>40.0</td>\n",
       "      <td>42.5</td>\n",
       "      <td>11.7300</td>\n",
       "      <td>7.2250</td>\n",
       "      <td>M</td>\n",
       "      <td>0.426</td>\n",
       "    </tr>\n",
       "    <tr>\n",
       "      <th>157</th>\n",
       "      <td>Plateosaurus</td>\n",
       "      <td>273.0</td>\n",
       "      <td>23.0</td>\n",
       "      <td>25.0</td>\n",
       "      <td>28.0</td>\n",
       "      <td>11.0880</td>\n",
       "      <td>4.1440</td>\n",
       "      <td>F</td>\n",
       "      <td>0.341</td>\n",
       "    </tr>\n",
       "    <tr>\n",
       "      <th>158</th>\n",
       "      <td>Stegosaurus</td>\n",
       "      <td>6.7</td>\n",
       "      <td>9.3</td>\n",
       "      <td>9.8</td>\n",
       "      <td>10.8</td>\n",
       "      <td>1.7388</td>\n",
       "      <td>1.0476</td>\n",
       "      <td>F</td>\n",
       "      <td>0.546</td>\n",
       "    </tr>\n",
       "  </tbody>\n",
       "</table>\n",
       "<p>159 rows × 9 columns</p>\n",
       "</div>"
      ],
      "text/plain": [
       "           Species  Weight  Length   Age  TailLength   Height   Width Gender  \\\n",
       "0        Iguanadon  1650.0    59.0  63.4        68.0  10.8120  7.4800      M   \n",
       "1      Pterodactyl   145.0    22.0  24.0        25.5   6.3750  3.8250      M   \n",
       "2      Pterodactyl   820.0    37.1  40.0        42.5  11.1350  6.6300      F   \n",
       "3    Brachiosaurus   242.0    23.2  25.4        30.0  11.5200  4.0200      F   \n",
       "4      Pterodactyl   650.0    36.5  39.0        41.4  11.1366  6.0030      M   \n",
       "..             ...     ...     ...   ...         ...      ...     ...    ...   \n",
       "154    Stegosaurus     7.0    10.1  10.6        11.6   1.7284  1.1484      F   \n",
       "155  Brachiosaurus   850.0    32.8  36.0        41.6  16.8896  6.1984      F   \n",
       "156    Pterodactyl   900.0    37.0  40.0        42.5  11.7300  7.2250      M   \n",
       "157   Plateosaurus   273.0    23.0  25.0        28.0  11.0880  4.1440      F   \n",
       "158    Stegosaurus     6.7     9.3   9.8        10.8   1.7388  1.0476      F   \n",
       "\n",
       "     Completeness  \n",
       "0           0.545  \n",
       "1           0.531  \n",
       "2           0.661  \n",
       "3           0.793  \n",
       "4           0.931  \n",
       "..            ...  \n",
       "154         0.557  \n",
       "155         0.849  \n",
       "156         0.426  \n",
       "157         0.341  \n",
       "158         0.546  \n",
       "\n",
       "[159 rows x 9 columns]"
      ]
     },
     "execution_count": 14,
     "metadata": {},
     "output_type": "execute_result"
    }
   ],
   "source": [
    "file = pd.read_csv(\"dinos.csv\")\n",
    "file"
   ]
  },
  {
   "cell_type": "code",
   "execution_count": 15,
   "id": "6a99265a-9c39-4c59-a72f-5ef4288b222a",
   "metadata": {},
   "outputs": [
    {
     "data": {
      "text/html": [
       "<div>\n",
       "<style scoped>\n",
       "    .dataframe tbody tr th:only-of-type {\n",
       "        vertical-align: middle;\n",
       "    }\n",
       "\n",
       "    .dataframe tbody tr th {\n",
       "        vertical-align: top;\n",
       "    }\n",
       "\n",
       "    .dataframe thead th {\n",
       "        text-align: right;\n",
       "    }\n",
       "</style>\n",
       "<table border=\"1\" class=\"dataframe\">\n",
       "  <thead>\n",
       "    <tr style=\"text-align: right;\">\n",
       "      <th></th>\n",
       "      <th>Age</th>\n",
       "      <th>Gender</th>\n",
       "      <th>Completeness</th>\n",
       "      <th>Iguanadon</th>\n",
       "      <th>Pterodactyl</th>\n",
       "      <th>Brachiosaurus</th>\n",
       "      <th>Plateosaurus</th>\n",
       "      <th>Vulcanodon</th>\n",
       "      <th>Stegosaurus</th>\n",
       "      <th>Raptor</th>\n",
       "      <th>Volume</th>\n",
       "    </tr>\n",
       "  </thead>\n",
       "  <tbody>\n",
       "    <tr>\n",
       "      <th>0</th>\n",
       "      <td>63.4</td>\n",
       "      <td>1</td>\n",
       "      <td>0.545</td>\n",
       "      <td>1</td>\n",
       "      <td>0</td>\n",
       "      <td>0</td>\n",
       "      <td>0</td>\n",
       "      <td>0</td>\n",
       "      <td>0</td>\n",
       "      <td>0</td>\n",
       "      <td>4771.551840</td>\n",
       "    </tr>\n",
       "    <tr>\n",
       "      <th>1</th>\n",
       "      <td>24.0</td>\n",
       "      <td>1</td>\n",
       "      <td>0.531</td>\n",
       "      <td>0</td>\n",
       "      <td>1</td>\n",
       "      <td>0</td>\n",
       "      <td>0</td>\n",
       "      <td>0</td>\n",
       "      <td>0</td>\n",
       "      <td>0</td>\n",
       "      <td>536.456250</td>\n",
       "    </tr>\n",
       "    <tr>\n",
       "      <th>2</th>\n",
       "      <td>40.0</td>\n",
       "      <td>0</td>\n",
       "      <td>0.661</td>\n",
       "      <td>0</td>\n",
       "      <td>1</td>\n",
       "      <td>0</td>\n",
       "      <td>0</td>\n",
       "      <td>0</td>\n",
       "      <td>0</td>\n",
       "      <td>0</td>\n",
       "      <td>2738.909355</td>\n",
       "    </tr>\n",
       "    <tr>\n",
       "      <th>3</th>\n",
       "      <td>25.4</td>\n",
       "      <td>0</td>\n",
       "      <td>0.793</td>\n",
       "      <td>0</td>\n",
       "      <td>0</td>\n",
       "      <td>1</td>\n",
       "      <td>0</td>\n",
       "      <td>0</td>\n",
       "      <td>0</td>\n",
       "      <td>0</td>\n",
       "      <td>1074.401280</td>\n",
       "    </tr>\n",
       "    <tr>\n",
       "      <th>4</th>\n",
       "      <td>39.0</td>\n",
       "      <td>1</td>\n",
       "      <td>0.931</td>\n",
       "      <td>0</td>\n",
       "      <td>1</td>\n",
       "      <td>0</td>\n",
       "      <td>0</td>\n",
       "      <td>0</td>\n",
       "      <td>0</td>\n",
       "      <td>0</td>\n",
       "      <td>2440.134858</td>\n",
       "    </tr>\n",
       "  </tbody>\n",
       "</table>\n",
       "</div>"
      ],
      "text/plain": [
       "    Age  Gender  Completeness  Iguanadon  Pterodactyl  Brachiosaurus  \\\n",
       "0  63.4       1         0.545          1            0              0   \n",
       "1  24.0       1         0.531          0            1              0   \n",
       "2  40.0       0         0.661          0            1              0   \n",
       "3  25.4       0         0.793          0            0              1   \n",
       "4  39.0       1         0.931          0            1              0   \n",
       "\n",
       "   Plateosaurus  Vulcanodon  Stegosaurus  Raptor       Volume  \n",
       "0             0           0            0       0  4771.551840  \n",
       "1             0           0            0       0   536.456250  \n",
       "2             0           0            0       0  2738.909355  \n",
       "3             0           0            0       0  1074.401280  \n",
       "4             0           0            0       0  2440.134858  "
      ]
     },
     "execution_count": 15,
     "metadata": {},
     "output_type": "execute_result"
    }
   ],
   "source": [
    "file['Iguanadon'] = np.where(file['Species'] == \"Iguanadon\", 1, 0)\n",
    "file['Pterodactyl'] = np.where(file['Species'] == \"Pterodactyl\", 1, 0)\n",
    "file['Brachiosaurus'] = np.where(file['Species'] == \"Brachiosaurus\", 1, 0)\n",
    "file['Plateosaurus'] = np.where(file['Species'] == \"Stegosaurus\", 1, 0)\n",
    "file['Vulcanodon'] = np.where(file['Species'] == \"Vulcanodon\", 1, 0)\n",
    "file['Stegosaurus'] = np.where(file['Species'] == \"Stegosaurus\", 1, 0)\n",
    "file['Raptor'] = np.where(file['Species'] == \"Raptor\", 1, 0)\n",
    "\n",
    "d = file.drop(\"Weight\", axis=1)\n",
    "d = d.drop(\"Species\", axis=1)\n",
    "d[\"Gender\"] = (d[\"Gender\"]==\"M\").astype(\"int16\")\n",
    "d = d.assign(Volume=d[\"Length\"]*d[\"Height\"]*d[\"Width\"])\n",
    "d = d.drop(\"Length\", axis=1)\n",
    "d = d.drop(\"Height\", axis=1)\n",
    "d = d.drop(\"Width\", axis=1)\n",
    "d = d.drop(\"TailLength\", axis=1) #Equal to Age\n",
    "\n",
    "d.head()"
   ]
  },
  {
   "cell_type": "code",
   "execution_count": 16,
   "id": "e84599f0-5da4-4e1b-9e7a-aed81c967473",
   "metadata": {},
   "outputs": [],
   "source": [
    "d = (d - d.mean(axis = 0)) / d.std(axis = 0)"
   ]
  },
  {
   "cell_type": "code",
   "execution_count": 17,
   "id": "5cbfee56-fbe4-4921-9ca2-79ad2d31e452",
   "metadata": {},
   "outputs": [],
   "source": [
    "train, test = np.split(d, [int(0.7*len(d))])\n",
    "Y, Y_test = np.split(file[\"Weight\"], [int(0.7*len(file[\"Weight\"]))])"
   ]
  },
  {
   "cell_type": "code",
   "execution_count": 18,
   "id": "7c91acca-8f56-4ede-bb94-f2545dc3507f",
   "metadata": {},
   "outputs": [],
   "source": [
    "Y = file[\"Weight\"]\n",
    "X = train.to_numpy()\n",
    "m, n = train.shape"
   ]
  },
  {
   "cell_type": "code",
   "execution_count": 19,
   "id": "806c043e-8664-4551-bdbd-9b594e657055",
   "metadata": {},
   "outputs": [
    {
     "name": "stdout",
     "output_type": "stream",
     "text": [
      "[-4.83615587e-07  1.05090211e-06 -4.34582092e-08 -4.04813244e-07\n",
      "  1.58671535e-06 -6.21580819e-07 -3.63541874e-07 -2.31688423e-07\n",
      " -3.63541874e-07 -4.43794609e-07 -8.19280304e-07] 5.966727247152191\n"
     ]
    }
   ],
   "source": [
    "w = np.zeros(n) #parameter vector\n",
    "b = 0\n",
    "\n",
    "alpha = 0.0001\n",
    "lamb = 200000\n",
    "epochs = 500\n",
    "\n",
    "totalCost = np.zeros(epochs)\n",
    "iter = np.linspace(0, epochs-1, epochs)\n",
    "\n",
    "for i in range(epochs):\n",
    "    Y_pred = pd.Series(np.zeros(m))\n",
    "\n",
    "    #exponential curve\n",
    "    Y_pred = np.exp(X @ w + b * pd.Series(np.ones(m))) \n",
    "    \n",
    "    D_w = (1 / m) * np.sum(Y_pred - Y) * X + (lamb / (2 * m)) * w\n",
    "    D_b = (1 / m) * np.sum(Y_pred - Y)\n",
    "\n",
    "    cost = (1 / (2 * m)) * np.sum(pow(Y_pred - Y, 2)) + (lamb / (2 * m)) * np.sum(w ** 2)\n",
    "    #exp cost = to be figured\n",
    "    totalCost[i] = cost\n",
    "    \n",
    "    w = w - alpha * D_w[1]\n",
    "    b = b - alpha * D_b\n",
    "\n",
    "print(w, b)"
   ]
  },
  {
   "cell_type": "code",
   "execution_count": 20,
   "id": "031801d4-75d2-412d-ae78-094329e41f8f",
   "metadata": {},
   "outputs": [
    {
     "data": {
      "image/png": "[encoded data removed]",
      "text/plain": [
       "<Figure size 640x480 with 1 Axes>"
      ]
     },
     "metadata": {},
     "output_type": "display_data"
    }
   ],
   "source": [
    "plt.plot(iter, totalCost)\n",
    "plt.show()"
   ]
  },
  {
   "cell_type": "code",
   "execution_count": 21,
   "id": "2f668e2f-e59c-4880-b325-283fb1449cba",
   "metadata": {},
   "outputs": [
    {
     "data": {
      "text/plain": [
       "(48, 11)"
      ]
     },
     "execution_count": 21,
     "metadata": {},
     "output_type": "execute_result"
    }
   ],
   "source": [
    "\n",
    "X_test = test.to_numpy()\n",
    "cols = [\"Length\", \"Age\", \"Height\", \"Width\", \"Gender\", \"Volume\", \"Completeness\"]\n",
    "m_test, n_test = test.shape\n",
    "test.shape"
   ]
  },
  {
   "cell_type": "code",
   "execution_count": 22,
   "id": "c5fa1283-6877-41bb-bb8e-fca79dae867f",
   "metadata": {},
   "outputs": [
    {
     "name": "stdout",
     "output_type": "stream",
     "text": [
      "138197.950259406\n"
     ]
    }
   ],
   "source": [
    "Y_test_pred = X_test @ w + b\n",
    "cost_test = (1 / (2 * m_test)) * np.sum(pow(Y_test_pred - Y_test, 2)) \n",
    "print(cost_test)"
   ]
  },
  {
   "cell_type": "code",
   "execution_count": 23,
   "id": "5654c94f-b137-46c9-8138-394cd8214519",
   "metadata": {},
   "outputs": [
    {
     "name": "stdout",
     "output_type": "stream",
     "text": [
      "4345.029233012\n"
     ]
    }
   ],
   "source": [
    "error_test = abs(Y_test_pred - Y_test)\n",
    "error_test_p = np.sum(error_test*100/Y_test)\n",
    "print(error_test_p)"
   ]
  },
  {
   "cell_type": "code",
   "execution_count": 24,
   "id": "bd5f4a5d",
   "metadata": {},
   "outputs": [
    {
     "name": "stdout",
     "output_type": "stream",
     "text": [
      "0.9052144235441667\n"
     ]
    }
   ],
   "source": [
    "from sklearn.metrics import mean_absolute_percentage_error\n",
    "\n",
    "print(mean_absolute_percentage_error(y_pred=Y_test_pred, y_true=Y_test))"
   ]
  }
 ],
 "metadata": {
  "kernelspec": {
   "display_name": "Python 3 (ipykernel)",
   "language": "python",
   "name": "python3"
  },
  "language_info": {
   "codemirror_mode": {
    "name": "ipython",
    "version": 3
   },
   "file_extension": ".py",
   "mimetype": "text/x-python",
   "name": "python",
   "nbconvert_exporter": "python",
   "pygments_lexer": "ipython3",
   "version": "3.8.10"
  }
 },
 "nbformat": 4,
 "nbformat_minor": 5
}
