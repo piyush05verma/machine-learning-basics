{
 "cells": [
  {
   "cell_type": "code",
   "execution_count": 4,
   "metadata": {},
   "outputs": [
    {
     "name": "stdout",
     "output_type": "stream",
     "text": [
      "Accuracy of model :  80.65 %\n"
     ]
    }
   ],
   "source": [
    "import pandas as pd\n",
    "import numpy as np\n",
    "import matplotlib.pyplot as plt\n",
    "\n",
    "# Read Data\n",
    "train = pd.read_csv('train.csv')\n",
    "test = pd.read_csv('test.csv')\n",
    "\n",
    "sex_mapping = {\"male\": 0, \"female\": 1}\n",
    "train['Sex'] = train['Sex'].replace(sex_mapping)\n",
    "test['Sex'] = test['Sex'].replace(sex_mapping)\n",
    "\n",
    "# Seperating Features and Aim\n",
    "# Seperating Training and Testing Data Set\n",
    "X_train = train.iloc[:, [1] + list(range(3, 8))].values # Features -- Col 2 and 4 to 8\n",
    "y_train = train.iloc[:, 0].values # Aim -- Col 1\n",
    "\n",
    "X_test = test.iloc[:, [1] + list(range(3, 8))].values  # Features -- Col 2 and 4 to 8\n",
    "y = test.iloc[:, 0].values # Aim -- Col 1\n",
    "\n",
    "# Preparing for Matric Calculation\n",
    "X_train = X_train.T # Transposing Matrix\n",
    "X_test = X_test.T # Transposing Matrix\n",
    "\n",
    "# Defining Sigmoid Formula\n",
    "def sigmoid(z):\n",
    "    return (1 / (1 + np.exp(-z))) # Reduction to [0, 1]\n",
    "\n",
    "# Assume Standard Values\n",
    "epochs = 100000\n",
    "learning_rate = 0.004\n",
    "coefficients = np.zeros((X_train.shape[0], 1))\n",
    "bias = 0\n",
    "\n",
    "for e in range(epochs):\n",
    "    value = np.dot(coefficients.T , X_train) + bias\n",
    "    y_pred = sigmoid(value)\n",
    "    \n",
    "    coefficients += learning_rate * ((1 / X_train.shape[1]) * np.dot((y_train - y_pred), X_train.T)).T\n",
    "    bias += learning_rate * (1 / X_train.shape[1]) * np.sum(y_train - y_pred)\n",
    "\n",
    "probability = np.dot(coefficients.T, X_test) + bias # Probability of Survival\n",
    "y_pred = sigmoid (probability)\n",
    "y_pred = y_pred > 0.5 # Boolean form of Prediction\n",
    "y_pred = np.array(y_pred, dtype='int64') # Converting to Integer\n",
    "\n",
    "accuracy = (1 - np.sum(np.absolute(y_pred - y)) / y.shape[0]) * 100\n",
    "print(\"Accuracy of model : \", round(accuracy, 2), '%')"
   ]
  }
 ],
 "metadata": {
  "kernelspec": {
   "display_name": "Python 3",
   "language": "python",
   "name": "python3"
  },
  "language_info": {
   "codemirror_mode": {
    "name": "ipython",
    "version": 3
   },
   "file_extension": ".py",
   "mimetype": "text/x-python",
   "name": "python",
   "nbconvert_exporter": "python",
   "pygments_lexer": "ipython3",
   "version": "3.8.10"
  }
 },
 "nbformat": 4,
 "nbformat_minor": 2
}
